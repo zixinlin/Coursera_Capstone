{
   "source": [
    "import numpy as np # library to handle data in a vectorized manner\n",
    "\n",
    "import json # library to handle JSON files\n",
    "\n",
    "from geopy.geocoders import Nominatim # convert an address into latitude and longitude values\n",
    "\n",
    "import folium # map rendering library\n",
    "\n",
    "import pandas as pd # library for data analsysis\n",
    "pd.set_option('display.max_columns', None)\n",
    "pd.set_option('display.max_rows', None)\n",
    "\n",
    "print('Libraries imported.')"
   ]
  },
  {
   "cell_type": "code",
   "execution_count": 2,
   "metadata": {},
   "outputs": [
    {
     "name": "stdout",
     "output_type": "stream",
     "text": [
      "Shape of Dataframe is -  (289, 3)\n"
     ]
    },
    {
     "data": {
      "text/html": [
       "<div>\n",
       "<style scoped>\n",
       "    .dataframe tbody tr th:only-of-type {\n",
       "        vertical-align: middle;\n",
       "    }\n",
       "\n",
       "    .dataframe tbody tr th {\n",
       "        vertical-align: top;\n",
       "    }\n",
       "\n",
       "    .dataframe thead th {\n",
       "        text-align: right;\n",
       "    }\n",
       "</style>\n",
       "<table border=\"1\" class=\"dataframe\">\n",
       "  <thead>\n",
       "    <tr style=\"text-align: right;\">\n",
       "      <th></th>\n",
       "      <th>Postcode</th>\n",
       "      <th>Borough</th>\n",
       "      <th>Neighbourhood</th>\n",
       "    </tr>\n",
       "  </thead>\n",
       "  <tbody>\n",
       "    <tr>\n",
       "      <th>0</th>\n",
       "      <td>M1A</td>\n",
       "      <td>Not assigned</td>\n",
       "      <td>Not assigned</td>\n",
       "    </tr>\n",
       "    <tr>\n",
       "      <th>1</th>\n",
       "      <td>M2A</td>\n",
       "      <td>Not assigned</td>\n",
       "      <td>Not assigned</td>\n",
       "    </tr>\n",
       "    <tr>\n",
       "      <th>2</th>\n",
       "      <td>M3A</td>\n",
       "      <td>North York</td>\n",
       "      <td>Parkwoods</td>\n",
       "    </tr>\n",
       "    <tr>\n",
       "      <th>3</th>\n",
       "      <td>M4A</td>\n",
       "      <td>North York</td>\n",
       "      <td>Victoria Village</td>\n",
       "    </tr>\n",
       "    <tr>\n",
       "      <th>4</th>\n",
       "      <td>M5A</td>\n",
       "      <td>Downtown Toronto</td>\n",
       "      <td>Harbourfront</td>\n",
       "    </tr>\n",
       "  </tbody>\n",
       "</table>\n",
       "</div>"
      ],
      "text/plain": [
       "  Postcode           Borough     Neighbourhood\n",
       "0      M1A      Not assigned      Not assigned\n",
       "1      M2A      Not assigned      Not assigned\n",
       "2      M3A        North York         Parkwoods\n",
       "3      M4A        North York  Victoria Village\n",
       "4      M5A  Downtown Toronto      Harbourfront"
      ]
     },
     "execution_count": 2,
     "metadata": {},
     "output_type": "execute_result"
    }
   ],
   "source": [
    "tables = pd.read_html('https://en.wikipedia.org/wiki/List_of_postal_codes_of_Canada:_M', header=0)\n",
    "\n",
    "# I did not use Beatiful Soup for this as I felt this would be easier and faster\n",
    "required_cols = ['Postcode', 'Borough','Neighbourhood']\n",
    "\n",
    "# Note I converted the boolean output of array_equal function to String as it \n",
    "# wasn't working as expected when used in the if condition as expected\n",
    "for table in tables:\n",
    "    if(str(np.array_equal(np.array(table.columns),np.array(required_cols)))==\"True\"):\n",
    "        pstl_data_df = pd.DataFrame(table)    \n",
    "    break\n",
    "print(\"Shape of Dataframe is - \",pstl_data_df.shape)\n",
    "pstl_data_df.head()"
   ]
  },
  {
   "cell_type": "markdown",
   "metadata": {},
   "source": [
    "### Step 2: Only process the cells that have an assigned borough. Ignore cells with a borough that is Not assigned."
   ]
  },
  {
   "cell_type": "code",
   "execution_count": 3,
   "metadata": {},
   "outputs": [
    {
     "name": "stdout",
     "output_type": "stream",
     "text": [
      "Shape of Dataframe is -  (212, 3)\n"
     ]
    },
    {
     "data": {
      "text/html": [
       "<div>\n",
       "<style scoped>\n",
       "    .dataframe tbody tr th:only-of-type {\n",
       "        vertical-align: middle;\n",
       "    }\n",
       "\n",
       "    .dataframe tbody tr th {\n",
       "        vertical-align: top;\n",
       "    }\n",
       "\n",
       "    .dataframe thead th {\n",
       "        text-align: right;\n",
       "    }\n",
       "</style>\n",
       "<table border=\"1\" class=\"dataframe\">\n",
       "  <thead>\n",
       "    <tr style=\"text-align: right;\">\n",
       "      <th></th>\n",
       "      <th>Postcode</th>\n",
       "      <th>Borough</th>\n",
       "      <th>Neighbourhood</th>\n",
       "    </tr>\n",
       "  </thead>\n",
       "  <tbody>\n",
       "    <tr>\n",
       "      <th>2</th>\n",
       "      <td>M3A</td>\n",
       "      <td>North York</td>\n",
       "      <td>Parkwoods</td>\n",
       "    </tr>\n",
       "    <tr>\n",
       "      <th>3</th>\n",
       "      <td>M4A</td>\n",
       "      <td>North York</td>\n",
       "      <td>Victoria Village</td>\n",
       "    </tr>\n",
       "    <tr>\n",
       "      <th>4</th>\n",
       "      <td>M5A</td>\n",
       "      <td>Downtown Toronto</td>\n",
       "      <td>Harbourfront</td>\n",
       "    </tr>\n",
       "    <tr>\n",
       "      <th>5</th>\n",
       "      <td>M5A</td>\n",
       "      <td>Downtown Toronto</td>\n",
       "      <td>Regent Park</td>\n",
       "    </tr>\n",
       "    <tr>\n",
       "      <th>6</th>\n",
       "      <td>M6A</td>\n",
       "      <td>North York</td>\n",
       "      <td>Lawrence Heights</td>\n",
       "    </tr>\n",
       "  </tbody>\n",
       "</table>\n",
       "</div>"
      ],
      "text/plain": [
       "  Postcode           Borough     Neighbourhood\n",
       "2      M3A        North York         Parkwoods\n",
       "3      M4A        North York  Victoria Village\n",
       "4      M5A  Downtown Toronto      Harbourfront\n",
       "5      M5A  Downtown Toronto       Regent Park\n",
       "6      M6A        North York  Lawrence Heights"
      ]
     },
     "execution_count": 3,
     "metadata": {},
     "output_type": "execute_result"
    }
   ],
   "source": [
    "#Filtering out Boroughs which are Not assigned\n",
    "pstl_data_df = pstl_data_df[pstl_data_df.Borough!=\"Not assigned\"]\n",
    "print(\"Shape of Dataframe is - \",pstl_data_df.shape)\n",
    "pstl_data_df.head()"
   ]
  },
  {
   "cell_type": "markdown",
   "metadata": {},
   "source": [
    "### Step 3: If a cell has a borough but a Not assigned neighborhood, then the neighborhood will be the same as the borough. So for the 9th cell in the table on the Wikipedia page, the value of the Borough and the Neighborhood columns will be Queen's Park."
   ]
  },
  {
   "cell_type": "code",
   "execution_count": 4,
   "metadata": {},
   "outputs": [
    {
     "data": {
      "text/html": [
       "<div>\n",
       "<style scoped>\n",
       "    .dataframe tbody tr th:only-of-type {\n",
       "        vertical-align: middle;\n",
       "    }\n",
       "\n",
       "    .dataframe tbody tr th {\n",
       "        vertical-align: top;\n",
       "    }\n",
       "\n",
       "    .dataframe thead th {\n",
       "        text-align: right;\n",
       "    }\n",
       "</style>\n",
       "<table border=\"1\" class=\"dataframe\">\n",
       "  <thead>\n",
       "    <tr style=\"text-align: right;\">\n",
       "      <th></th>\n",
       "      <th>Postcode</th>\n",
       "      <th>Borough</th>\n",
       "      <th>Neighbourhood</th>\n",
       "      <th>new_nghbr</th>\n",
       "    </tr>\n",
       "  </thead>\n",
       "  <tbody>\n",
       "    <tr>\n",
       "      <th>2</th>\n",
       "      <td>M3A</td>\n",
       "      <td>North York</td>\n",
       "      <td>Parkwoods</td>\n",
       "      <td>Parkwoods</td>\n",
       "    </tr>\n",
       "    <tr>\n",
       "      <th>3</th>\n",
       "      <td>M4A</td>\n",
       "      <td>North York</td>\n",
       "      <td>Victoria Village</td>\n",
       "      <td>Victoria Village</td>\n",
       "    </tr>\n",
       "    <tr>\n",
       "      <th>4</th>\n",
       "      <td>M5A</td>\n",
       "      <td>Downtown Toronto</td>\n",
       "      <td>Harbourfront</td>\n",
       "      <td>Harbourfront</td>\n",
       "    </tr>\n",
       "    <tr>\n",
       "      <th>5</th>\n",
       "      <td>M5A</td>\n",
       "      <td>Downtown Toronto</td>\n",
       "      <td>Regent Park</td>\n",
       "      <td>Regent Park</td>\n",
       "    </tr>\n",
       "    <tr>\n",
       "      <th>6</th>\n",
       "      <td>M6A</td>\n",
       "      <td>North York</td>\n",
       "      <td>Lawrence Heights</td>\n",
       "      <td>Lawrence Heights</td>\n",
       "    </tr>\n",
       "    <tr>\n",
       "      <th>7</th>\n",
       "      <td>M6A</td>\n",
       "      <td>North York</td>\n",
       "      <td>Lawrence Manor</td>\n",
       "      <td>Lawrence Manor</td>\n",
       "    </tr>\n",
       "    <tr>\n",
       "      <th>8</th>\n",
       "      <td>M7A</td>\n",
       "      <td>Queen's Park</td>\n",
       "      <td>Not assigned</td>\n",
       "      <td>Queen's Park</td>\n",
       "    </tr>\n",
       "    <tr>\n",
       "      <th>10</th>\n",
       "      <td>M9A</td>\n",
       "      <td>Etobicoke</td>\n",
       "      <td>Islington Avenue</td>\n",
       "      <td>Islington Avenue</td>\n",
       "    </tr>\n",
       "    <tr>\n",
       "      <th>11</th>\n",
       "      <td>M1B</td>\n",
       "      <td>Scarborough</td>\n",
       "      <td>Rouge</td>\n",
       "      <td>Rouge</td>\n",
       "    </tr>\n",
       "    <tr>\n",
       "      <th>12</th>\n",
       "      <td>M1B</td>\n",
       "      <td>Scarborough</td>\n",
       "      <td>Malvern</td>\n",
       "      <td>Malvern</td>\n",
       "    </tr>\n",
       "  </tbody>\n",
       "</table>\n",
       "</div>"
      ],
      "text/plain": [
       "   Postcode           Borough     Neighbourhood         new_nghbr\n",
       "2       M3A        North York         Parkwoods         Parkwoods\n",
       "3       M4A        North York  Victoria Village  Victoria Village\n",
       "4       M5A  Downtown Toronto      Harbourfront      Harbourfront\n",
       "5       M5A  Downtown Toronto       Regent Park       Regent Park\n",
       "6       M6A        North York  Lawrence Heights  Lawrence Heights\n",
       "7       M6A        North York    Lawrence Manor    Lawrence Manor\n",
       "8       M7A      Queen's Park      Not assigned      Queen's Park\n",
       "10      M9A         Etobicoke  Islington Avenue  Islington Avenue\n",
       "11      M1B       Scarborough             Rouge             Rouge\n",
       "12      M1B       Scarborough           Malvern           Malvern"
      ]
     },
     "execution_count": 4,
     "metadata": {},
     "output_type": "execute_result"
    }
   ],
   "source": [
    "pstl_data_df['new_nghbr'] = np.where(pstl_data_df['Neighbourhood']=='Not assigned',pstl_data_df['Borough'],pstl_data_df['Neighbourhood'])\n",
    "pstl_data_df.head(10)"
   ]
  },
  {
   "cell_type": "markdown",
   "metadata": {},
   "source": [
    "### Step 4: More than one neighborhood can exist in one postal code area. For example, in the table on the Wikipedia page, you will notice that M5A is listed twice and has two neighborhoods: Harbourfront and Regent Park. These two rows will be combined into one row with the neighborhoods separated with a comma as shown in row 11 in the above table."
   ]
  },
  {
   "cell_type": "markdown",
   "metadata": {},
   "source": [
    "Used the \"new_nghbr\" column to get a grouped column, as in wherever the same Postal Code and the same Borough are present we have to club the Neighbourhood column using the functions groupby and apply"
   ]
  },
  {
   "cell_type": "code",
   "execution_count": 5,
   "metadata": {},
   "outputs": [],
   "source": [
    "can_postal_cd_df = pd.DataFrame(pstl_data_df.groupby(['Postcode','Borough'])['new_nghbr'].apply(','.join).reset_index())\n",
    "\n",
    "# Renaming Columns to the same one in the image given:\n",
    "can_postal_cd_df = can_postal_cd_df.rename(columns = {\"Postcode\": \"PostalCode\",\"new_nghbr\":\"Neighborhood\"})"
   ]
  },
  {
   "cell_type": "code",
   "execution_count": 6,
   "metadata": {},
   "outputs": [
    {
     "name": "stdout",
     "output_type": "stream",
     "text": [
      "  PostalCode      Borough                          Neighborhood\n",
      "0        M1B  Scarborough                         Rouge,Malvern\n",
      "1        M1C  Scarborough  Highland Creek,Rouge Hill,Port Union\n",
      "2        M1E  Scarborough       Guildwood,Morningside,West Hill\n",
      "3        M1G  Scarborough                                Woburn\n",
      "4        M1H  Scarborough                             Cedarbrae\n",
      "\n",
      " The Final Shape of the dataframe is  -  (103, 3)\n"
     ]
    }
   ],
   "source": [
    "print(can_postal_cd_df.head())\n",
    "print(\"\\n The Final Shape of the dataframe is  - \",can_postal_cd_df.shape)"
   ]
  },
  {
   "cell_type": "markdown",
   "metadata": {},
   "source": [
    "### As We see above the shape of the new data frame created is (103,3)"
   ]
  },
  {
   "cell_type": "markdown",
   "metadata": {},
   "source": [
    "### PART-1 Ends Here"
   ]
  },
  {
   "cell_type": "markdown",
   "metadata": {},
   "source": [
    "## PART-2 Now we proceed to add the Lat Long data to the existing dataframe"
   ]
  },
  {
   "cell_type": "markdown",
   "metadata": {},
   "source": [
    "### Installing Geocoder"
   ]
  },
  {
   "cell_type": "code",
   "execution_count": 7,
   "metadata": {},
   "outputs": [
    {
     "name": "stdout",
     "output_type": "stream",
     "text": [
      "Collecting package metadata: done\n",
      "Solving environment: done\n",
      "\n",
      "## Package Plan ##\n",
      "\n",
      "  environment location: /home/jupyterlab/conda\n",
      "\n",
      "  added / updated specs:\n",
      "    - geocoder\n",
      "\n",
      "\n",
      "The following packages will be downloaded:\n",
      "\n",
      "    package                    |            build\n",
      "    ---------------------------|-----------------\n",
      "    ca-certificates-2019.3.9   |       hecc5488_0         146 KB  conda-forge\n",
      "    certifi-2019.3.9           |           py36_0         149 KB  conda-forge\n",
      "    conda-4.6.8                |           py36_0         876 KB  conda-forge\n",
      "    geocoder-1.38.1            |             py_0          52 KB  conda-forge\n",
      "    openssl-1.1.1b             |       h14c3975_1         4.0 MB  conda-forge\n",
      "    orderedset-2.0             |           py36_0         231 KB  conda-forge\n",
      "    ratelim-0.1.6              |           py36_0           5 KB  conda-forge\n",
      "    ------------------------------------------------------------\n",
      "                                           Total:         5.4 MB\n",
      "\n",
      "The following NEW packages will be INSTALLED:\n",
      "\n",
      "  geocoder           conda-forge/noarch::geocoder-1.38.1-py_0\n",
      "  orderedset         conda-forge/linux-64::orderedset-2.0-py36_0\n",
      "  ratelim            conda-forge/linux-64::ratelim-0.1.6-py36_0\n",
      "\n",
      "The following packages will be UPDATED:\n",
      "\n",
      "  ca-certificates                     2018.11.29-ha4d7672_0 --> 2019.3.9-hecc5488_0\n",
      "  certifi                              2018.11.29-py36_1000 --> 2019.3.9-py36_0\n",
      "  conda                                        4.6.4-py36_0 --> 4.6.8-py36_0\n",
      "  openssl                              1.1.1a-h14c3975_1000 --> 1.1.1b-h14c3975_1\n",
      "\n",
      "\n",
      "\n",
      "Downloading and Extracting Packages\n",
      "ca-certificates-2019 | 146 KB    | ##################################### | 100% \n",
      "openssl-1.1.1b       | 4.0 MB    | ##################################### | 100% \n",
      "conda-4.6.8          | 876 KB    | ##################################### | 100% \n",
      "orderedset-2.0       | 231 KB    | ##################################### | 100% \n",
      "geocoder-1.38.1      | 52 KB     | ##################################### | 100% \n",
      "ratelim-0.1.6        | 5 KB      | ##################################### | 100% \n",
      "certifi-2019.3.9     | 149 KB    | ##################################### | 100% \n",
      "Preparing transaction: done\n",
      "Verifying transaction: done\n",
      "Executing transaction: done\n",
      "Installation Done!\n",
      "Geo Coder imported!\n"
     ]
    }
   ],
   "source": [
    "!conda install -c conda-forge geocoder --yes\n",
    "print(\"Installation Done!\")\n",
    "import geocoder # import geocoder\n",
    "print(\"Geo Coder imported!\")"
   ]
  },
  {
   "cell_type": "markdown",
   "metadata": {},
   "source": [
    "Creating a function to get the Lat Long data from the Postal Code"
   ]
  },
  {
   "cell_type": "code",
   "execution_count": 8,
   "metadata": {},
   "outputs": [],
   "source": [
    "def get_geocoder(postal_code_from_df):\n",
    "    # initialize your variable to None\n",
    "    lat_lng_coords = None\n",
    "    # loop until you get the coordinates\n",
    "    while(lat_lng_coords is None):\n",
    "        g = geocoder.arcgis('{}, Toronto, Ontario'.format(postal_code_from_df.strip()))\n",
    "        lat_lng_coords = g.latlng\n",
    "        latitude = lat_lng_coords[0]\n",
    "        longitude = lat_lng_coords[1]\n",
    "    return latitude,longitude"
   ]
  },
  {
   "cell_type": "markdown",
   "metadata": {},
   "source": [
    "Adding the Latitude and Longitude columns to the Pandas DataFrame"
   ]
  },
  {
   "cell_type": "code",
   "execution_count": 9,
   "metadata": {},
   "outputs": [
    {
     "data": {
      "text/html": [
       "<div>\n",
       "<style scoped>\n",
       "    .dataframe tbody tr th:only-of-type {\n",
       "        vertical-align: middle;\n",
       "    }\n",
       "\n",
       "    .dataframe tbody tr th {\n",
       "        vertical-align: top;\n",
       "    }\n",
       "\n",
       "    .dataframe thead th {\n",
       "        text-align: right;\n",
       "    }\n",
       "</style>\n",
       "<table border=\"1\" class=\"dataframe\">\n",
       "  <thead>\n",
       "    <tr style=\"text-align: right;\">\n",
       "      <th></th>\n",
       "      <th>PostalCode</th>\n",
       "      <th>Borough</th>\n",
       "      <th>Neighborhood</th>\n",
       "      <th>Latitude</th>\n",
       "      <th>Longitude</th>\n",
       "    </tr>\n",
       "  </thead>\n",
       "  <tbody>\n",
       "    <tr>\n",
       "      <th>0</th>\n",
       "      <td>M1B</td>\n",
       "      <td>Scarborough</td>\n",
       "      <td>Rouge,Malvern</td>\n",
       "      <td>43.811650</td>\n",
       "      <td>-79.195561</td>\n",
       "    </tr>\n",
       "    <tr>\n",
       "      <th>1</th>\n",
       "      <td>M1C</td>\n",
       "      <td>Scarborough</td>\n",
       "      <td>Highland Creek,Rouge Hill,Port Union</td>\n",
       "      <td>43.785605</td>\n",
       "      <td>-79.158701</td>\n",
       "    </tr>\n",
       "    <tr>\n",
       "      <th>2</th>\n",
       "      <td>M1E</td>\n",
       "      <td>Scarborough</td>\n",
       "      <td>Guildwood,Morningside,West Hill</td>\n",
       "      <td>43.765690</td>\n",
       "      <td>-79.175299</td>\n",
       "    </tr>\n",
       "    <tr>\n",
       "      <th>3</th>\n",
       "      <td>M1G</td>\n",
       "      <td>Scarborough</td>\n",
       "      <td>Woburn</td>\n",
       "      <td>43.768216</td>\n",
       "      <td>-79.217610</td>\n",
       "    </tr>\n",
       "    <tr>\n",
       "      <th>4</th>\n",
       "      <td>M1H</td>\n",
       "      <td>Scarborough</td>\n",
       "      <td>Cedarbrae</td>\n",
       "      <td>43.769608</td>\n",
       "      <td>-79.239440</td>\n",
       "    </tr>\n",
       "  </tbody>\n",
       "</table>\n",
       "</div>"
      ],
      "text/plain": [
       "  PostalCode      Borough                          Neighborhood   Latitude  \\\n",
       "0        M1B  Scarborough                         Rouge,Malvern  43.811650   \n",
       "1        M1C  Scarborough  Highland Creek,Rouge Hill,Port Union  43.785605   \n",
       "2        M1E  Scarborough       Guildwood,Morningside,West Hill  43.765690   \n",
       "3        M1G  Scarborough                                Woburn  43.768216   \n",
       "4        M1H  Scarborough                             Cedarbrae  43.769608   \n",
       "\n",
       "   Longitude  \n",
       "0 -79.195561  \n",
       "1 -79.158701  \n",
       "2 -79.175299  \n",
       "3 -79.217610  \n",
       "4 -79.239440  "
      ]
     },
     "execution_count": 9,
     "metadata": {},
     "output_type": "execute_result"
    }
   ],
   "source": [
    "can_postal_cd_df['Latitude'], can_postal_cd_df['Longitude'] = zip(*can_postal_cd_df['PostalCode'].apply(get_geocoder))\n",
    "can_postal_cd_df.head()"
   ]
  },
  {
   "cell_type": "code",
   "execution_count": 10,
   "metadata": {},
   "outputs": [
    {
     "name": "stdout",
     "output_type": "stream",
     "text": [
      "Shape of the dataframe is -  (103, 5)\n"
     ]
    }
   ],
   "source": [
    "print(\"Shape of the dataframe is - \",can_postal_cd_df.shape)"
   ]
  },
  {
   "cell_type": "markdown",
   "metadata": {},
   "source": [
    "## Map of Toronto"
   ]
  },
  {
   "cell_type": "markdown",
   "metadata": {},
   "source": [
    "Using geolocator for Mapping Toronto"
   ]
  },
  {
   "cell_type": "code",
   "execution_count": 19,
   "metadata": {},
   "outputs": [
    {
     "name": "stdout",
     "output_type": "stream",
     "text": [
      "The geograpical coordinates of Toronto, Ontario are 43.653963, -79.387207.\n"
     ]
    }
   ],
   "source": [
    "address = 'Toronto, Ontario'\n",
    "\n",
    "geolocator = Nominatim(user_agent=\"toronto_ontario\")\n",
    "location = geolocator.geocode(address)\n",
    "latitude = location.latitude\n",
    "longitude = location.longitude\n",
    "print('The geograpical coordinates of Toronto, Ontario are {}, {}.'.format(latitude, longitude))"
   ]
  },
  {
   "cell_type": "markdown",
   "metadata": {},
   "source": [
    "Using Folium to Map"
   ]
  },
  {
   "cell_type": "code",
   "execution_count": 20,
   "metadata": {},
   "outputs": [
    {
     "data": {
      "text/html": [
       "<div style=\"width:100%;\"><div style=\"position:relative;width:100%;height:0;padding-bottom:60%;\"><iframe src=\"data:text/html;charset=utf-8;base64,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
